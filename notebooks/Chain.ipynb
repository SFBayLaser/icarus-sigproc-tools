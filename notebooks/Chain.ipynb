{
 "cells": [
  {
   "cell_type": "markdown",
   "metadata": {},
   "source": [
    "# ICARUS Signal Processing Chain NoteBook  \n",
    "  \n",
    "### 1. Introduction\n",
    "  * Reading data and event viewing\n",
    "  * Basic introduction to ICARUS induction wire data and signal processing\n",
    "  \n",
    "### 2. Coherent Noise Correction\n",
    "  * Morphological Filtering\n",
    "  * ROI Selection\n",
    "  * Coherent Noise Correction\n",
    "  \n",
    "### 3. Adaptive Wiener Denoising\n",
    "  * Lee filter\n",
    "  * MMWF and MMWFStar\n",
    "  * Weighted Lee filter\n",
    "  \n",
    "### 4. Deconvolution\n",
    "  * 1D deconvolution\n",
    "    * Inverse Filters\n",
    "  * 2D deconvolution"
   ]
  },
  {
   "cell_type": "markdown",
   "metadata": {},
   "source": [
    "### 1. Introduction"
   ]
  },
  {
   "cell_type": "code",
   "execution_count": null,
   "metadata": {},
   "outputs": [],
   "source": [
    "%matplotlib inline\n",
    "import uproot\n",
    "import numpy as np\n",
    "import plotly.graph_objects as go\n",
    "import plotly.subplots as subplots\n",
    "from plotly.colors import DEFAULT_PLOTLY_COLORS\n",
    "# Make sure the paths are correct\n",
    "import os,sys\n",
    "# Start by defining paths to base installations\n",
    "baseDir = \"/home/usher/LArTPC/jupyter\"\n",
    "icarusSigProcPath = baseDir + \"/icarus-sigproc-tools\"\n",
    "sigProcToolsPath = baseDir + \"/signal_processing\"\n",
    "\n",
    "# Now update the PYTHONPATH\n",
    "sys.path.insert(0,icarusSigProcPath)\n",
    "sys.path.insert(0,sigProcToolsPath+\"/python\")\n",
    "\n",
    "# Next update the path to the code\n",
    "os.environ['LD_LIBRARY_PATH'] = sigProcToolsPath+\"/build/lib\" + os.pathsep + os.environ['LD_LIBRARY_PATH']\n",
    "\n",
    "###############################################################################\n",
    "# Set the path to and name of the data file to be read\n",
    "PATHNAME       = \"~/LArTPC/ICARUS/workarea/data\"\n",
    "RECOFILENAME   = PATHNAME + \"/data_run621_1_EW05_PED_20190926T201608_DECODE.root\"\n",
    "#RECOFILENAME   = PATHNAME + \"/data_run618_2_EW01M_PED_20190926T174904_DECODE.root\""
   ]
  },
  {
   "cell_type": "code",
   "execution_count": null,
   "metadata": {},
   "outputs": [],
   "source": [
    "# Importing python-cpp interfacing modules for testing C++ implementations.\n",
    "from sproc import sproc\n",
    "from sigproc_tools.sigproc_objects.filterevents import FilterEvents\n",
    "from sigproc_tools.sigproc_utils.denoising import Denoiser\n",
    "from sigproc_tools.sigproc_utils.morphology import *"
   ]
  },
  {
   "cell_type": "code",
   "execution_count": null,
   "metadata": {},
   "outputs": [],
   "source": [
    "# Below should be standard for the test data files currently available\n",
    "RECOFOLDERNAME = \"Events\" \n",
    "DAQNAME        = \"raw::RawDigits_daq__TPCANALYSIS.\"\n",
    "\n",
    "# Grab the pandas dataframe from the input file for the tree we want to look at\n",
    "print(\"Opening file: \",RECOFILENAME)\n",
    "data_file = uproot.open(RECOFILENAME)\n",
    "#print(data_file.keys(),\"\\n------\\n\")\n",
    "print(\"Opening the folder contianing the RawDigits information: \",RECOFOLDERNAME)\n",
    "events_folder = data_file[RECOFOLDERNAME]\n",
    "#print(events_folder)\n",
    "\n",
    "# Go ahead and filter the events (subtracting pedestals)\n",
    "noiseFilter = FilterEvents(events_folder,DAQNAME)\n",
    "nChannelsPerGroup = 64   # <==== We choose this\n",
    "numChannels       = noiseFilter.rawdigits.numChannels(0)\n",
    "numGroups         = numChannels // nChannelsPerGroup\n",
    "numEvents = noiseFilter.filterEvents(nChannelsPerGroup)\n",
    "print(\"Noise processing complete with\",numEvents)"
   ]
  },
  {
   "cell_type": "markdown",
   "metadata": {},
   "source": [
    "Generate `FullResponse` objects for collection, first induction, and middle induction planes."
   ]
  },
  {
   "cell_type": "code",
   "execution_count": null,
   "metadata": {},
   "outputs": [],
   "source": [
    "from sigproc_tools.sigproc_objects.fullresponse        import FullResponse\n",
    "from sigproc_tools.sigproc_objects.fieldresponse       import FieldResponse\n",
    "from sigproc_tools.sigproc_objects.electronicsresponse import ElectronicsResponse\n",
    "from sigproc_tools.sigproc_objects.filter              import *\n",
    "\n",
    "numTimeBins  = 4096\n",
    "samplingRate = 0.4\n",
    "\n",
    "# Here the input parameters are defined. \n",
    "# Generally, the gaussians are defined by just their offset (which is almost always set to 0) and their width. The values input are in kHz. \n",
    "# The Wiener filter will be defined by its offset (again, mostly 0), its scaling factor (sort of sigma for the Gaussian) and exponent. Obviously,\n",
    "# the Wiener function will revert to a gaussian if the exponent is 2. \n",
    "paramsInd0   = [(0.,1.),(0.,90.)]     #[(0.,4.0), (0.,100.)]\n",
    "paramsInd1   = [(0.,5.),(0.,90.)]   #[(0.,4.0), (0.,100.)]\n",
    "paramsCol    = (0.,90.)               #(0.,100.)\n",
    "wienerInd    = (0.,60.,1.7)\n",
    "gaussWiener  = [(0.,2.),(0.,100.,3.)]\n",
    "\n",
    "# Here we build the filter functions \n",
    "filterInduction0  = FilterDoubleGauss(numTimeBins,samplingRate,paramsInd0)\n",
    "filterInduction1  = FilterDoubleGauss(numTimeBins,samplingRate,paramsInd1)\n",
    "filterWiener      = FilterPseudoWiener(numTimeBins,samplingRate,wienerInd)\n",
    "filterCollection  = FilterGauss(numTimeBins,samplingRate,paramsCol)\n",
    "filterGaussWiener = FilterGaussPseudoWiener(numTimeBins,samplingRate,gaussWiener)\n",
    "\n",
    "inputFilePath = \"~/LArTPC/Products/icarus_data/v08_31_01/icarus_data/Responses/\"\n",
    "TPCresponses = [None, None, None]\n",
    "TPCresponses[2] = FullResponse(inputFilePath,\"t600_response_vw02_v0.0.root\",filterCollection)\n",
    "TPCresponses[1] = FullResponse(inputFilePath,\"t600_response_vw01_v0.0.root\",filterInduction1,TPCresponses[2].FieldResponse.normFactor)\n",
    "TPCresponses[0] = FullResponse(inputFilePath,\"t600_response_vw00_v0.0.root\",filterInduction0,TPCresponses[2].FieldResponse.normFactor)"
   ]
  },
  {
   "cell_type": "markdown",
   "metadata": {},
   "source": [
    "Configurations for generating toy event overlay:"
   ]
  },
  {
   "cell_type": "code",
   "execution_count": null,
   "metadata": {},
   "outputs": [],
   "source": [
    "from sigproc_tools.sigproc_functions.fakeParticle      import genWhiteNoiseWaveform,genSpikeWaveform,createParticleTrajectory\n",
    "from sigproc_tools.sigproc_objects.filter              import *\n",
    "from scipy.optimize import curve_fit\n",
    "import scipy.signal as sig\n",
    "import math\n",
    "\n",
    "# Experiment with creating an event pic\n",
    "# Start with \"just\" a charge deposit on a zero waveform\n",
    "numElectrons = 10000 # number electrons per mm after recombination\n",
    "numChannels  = 576\n",
    "numTicks     = 4096\n",
    "\n",
    "angleToWire  = 45 # degrees\n",
    "slope        = math.tan(math.radians(90-angleToWire)) / 0.213\n",
    "startTick    = 1000\n",
    "\n",
    "startWire    = 50\n",
    "stopWire     = 550\n",
    "\n",
    "responseType = 1   # 0 for first induction, 1 for middle induction, 2 for collection.\n",
    "eventNum     = 0\n",
    "wireNum      = 255\n",
    "\n",
    "print(\"Angle to wire:\",angleToWire,\"(deg), tan(theta):\",math.tan(math.radians(90-angleToWire)),\", slope:\",slope)\n",
    "\n",
    "wireRange = (startWire,stopWire)\n",
    "tickRange = (startTick,int(round(slope*(wireRange[1]-wireRange[0])+startTick)))\n",
    "\n",
    "print(\"Using wireRange:\",wireRange,\", tickRange:\",tickRange)"
   ]
  },
  {
   "cell_type": "markdown",
   "metadata": {},
   "source": [
    "We will first examine the chain for the colleciton plane."
   ]
  },
  {
   "cell_type": "code",
   "execution_count": null,
   "metadata": {},
   "outputs": [],
   "source": [
    "spikeResponse,spikeInput = createParticleTrajectory(TPCresponses[responseType],numElectrons,wireRange,tickRange,(numChannels,numTicks))\n",
    "fullEvent = spikeResponse + noiseFilter.waveLessPedAll[eventNum,:,:]\n",
    "print(\"Overlay event created, wires from:\",wireRange,\", ticks from:\",tickRange)"
   ]
  },
  {
   "cell_type": "markdown",
   "metadata": {},
   "source": [
    "Plot `fullEvent` to visualize generated event overlayed on top of noise."
   ]
  },
  {
   "cell_type": "code",
   "execution_count": null,
   "metadata": {},
   "outputs": [],
   "source": [
    "from plotting.graphs import *\n",
    "makePlots = True\n",
    "if makePlots:\n",
    "    overlayPic = plotEventView3D(fullEvent)\n",
    "    print(\"Calling the show method\")\n",
    "    overlayPic.show()"
   ]
  },
  {
   "cell_type": "markdown",
   "metadata": {},
   "source": [
    "### 2. Coherent Noise Correction\n",
    "\n",
    "For coherent noise correction, we will use the `Denoiser` modules imported from `sigproc_tools.sigproc_utils.denoising`.  \n",
    "This is a simple class for accessing C++ backend denoising modules, so that one does not have to convert from `np.ndarray` to `ROOT.std.vector` and vice versa."
   ]
  },
  {
   "cell_type": "code",
   "execution_count": null,
   "metadata": {},
   "outputs": [],
   "source": [
    "denoiser = Denoiser(fullEvent)"
   ]
  },
  {
   "cell_type": "markdown",
   "metadata": {},
   "source": [
    "The `denoiser` class has a member function `removeCoherentNoise2D` that will perform morphological filtering to select ROIs. \n",
    "\n",
    "Once the ROIs are determined, it then removes the coherent noise components for each tick and each channel group (64) from non-signal regions.\n",
    "\n",
    "The arguments to the `removeCoherentNoise2D` are defined as follows:\n",
    "  * Morphological Filter Mode: `'d'` (dilation), `'e'` (erosion), `'g'` (gradient). These are the main filters that will be useful for our purposes.\n",
    "  * structuringElement (tuple): The moving window corresponding to the region used to compute morphological operations. \n",
    "  * window (int): when set to a positive number, the denoiser will expand `window / 2` pixels vertically and horizontally for each signal detected via morphological operations. \n",
    "  * threshold (float): thresholding value for selecting signals based on morphological filtering. The optimal value may be different for different planes/filters. "
   ]
  },
  {
   "cell_type": "code",
   "execution_count": null,
   "metadata": {},
   "outputs": [],
   "source": [
    "denoiser.removeCoherentNoise2D('g', structuringElement=(7,20), window=10, threshold=8.0)"
   ]
  },
  {
   "cell_type": "markdown",
   "metadata": {},
   "source": [
    "After running coherent noise removal, the following waveforms are stored as instance attributes:\n",
    "  * `denoiser.waveLessCoherent`: coherent noise corrected waveforms. \n",
    "  * `denoiser.selectVals`: detected signal region from morphological operations.\n",
    "  * `denoiser.roi`: region of interest. Note that it can be different from `selectVals` if `window != 0`. \n",
    "  * `denoiser.morphedWaveforms`: morphological filter applied waveform. \n",
    "  * `denoiser.instrinsicRMS`: the intrinsic RMS value for each channel group after coherent noise correction.\n",
    "  \n",
    "  \n",
    "We may plot `denoiser.waveLessCoherent` for visual inspection:"
   ]
  },
  {
   "cell_type": "code",
   "execution_count": null,
   "metadata": {},
   "outputs": [],
   "source": [
    "makePlots = True\n",
    "if makePlots:\n",
    "    overlayPic = plotEventView3D(denoiser.waveLessCoherent)\n",
    "    print(\"Calling the show method\")\n",
    "    overlayPic.show()"
   ]
  },
  {
   "cell_type": "markdown",
   "metadata": {},
   "source": [
    "### 3. Adaptive Wiener Filtering\n",
    "\n",
    "To further reduce noise, we can apply adaptive wiener filtering to the coherent noise corrected waveform shown above. Here we survey some of the available filtering techniques. \n",
    "\n",
    "The adaptive wiener filtering can be accessed via the `Deconvolver` module defined in `sigproc_tools.sigproc_utils.deconvolution`. However this is likely to be renamed, since the filters described here are not deconvolution algorithm in the sense of deconvolving the response function to reconstruct the original signal. It is better to understand these algorithm as generic noise removing filters.\n",
    "\n",
    "We construct a `Deconvoler` instance from the coherent noise corrected waveforms and the 2D boolean array containing signal detection information. Yet, not all algorithms available in `Deconvolver` will use the roi information. "
   ]
  },
  {
   "cell_type": "code",
   "execution_count": null,
   "metadata": {},
   "outputs": [],
   "source": [
    "from sigproc_tools.sigproc_utils.deconvolution import Deconvolver\n",
    "#from skimage.restoration import denoise_tv_bregman\n",
    "deconvolver = Deconvolver(denoiser.waveLessCoherent, selectVals=denoiser.selectVals.astype(bool))"
   ]
  },
  {
   "cell_type": "markdown",
   "metadata": {},
   "source": [
    "Here we list currently implemented filters, and a rough description of their functionalities:  \n",
    "  * `lee`: Approximate wiener filter that uses local statistics to reduce additive noise.\n",
    "  * `MMWF`: same as `lee`, yet this uses median in place of the mean. \n",
    "  * `MMWFStar`: same as `MMWF`, but using squared error from the median instead of variance. \n",
    "  * `lee_enhanced`: same as `lee`, but with using adaptive pixel-wise weighting.  \n",
    "\n",
    "Note that despite their name as \"adaptive wiener filters\" all computations are performed in the spatial domain via a convolution-like procedure (moving window). \n",
    "\n",
    "For detailed description of each filters, please consult the LaTeX documentation for signal processing. "
   ]
  },
  {
   "cell_type": "code",
   "execution_count": null,
   "metadata": {},
   "outputs": [],
   "source": [
    "# deconvWaveform = deconvolver.deconvolve_2d('lee', structuringElement=(7,20))\n",
    "# deconvWaveform = deconvolver.deconvolve_2d('MMWF', structuringElement=(7,20))\n",
    "# deconvWaveform = deconvolver.deconvolve_2d('MMWFStar', structuringElement=(7,20))\n",
    "# Collection\n",
    "# deconvWaveform = deconvolver.deconvolve_2d('lee_enhanced', structuringElement=(3,3))\n",
    "# First Induction\n",
    "deconvWaveform = deconvolver.deconvolve_2d('lee_enhanced', structuringElement=(3,3))\n",
    "# deconvWaveform = denoise_tv_bregman(denoiser.waveLessCoherent, 0.1)\n",
    "# deconvWaveform = deconvolver.deconvolve_2d('lee_enhanced_roi', structuringElement=(3,3))"
   ]
  },
  {
   "cell_type": "code",
   "execution_count": null,
   "metadata": {},
   "outputs": [],
   "source": [
    "makePlots = True\n",
    "if makePlots:\n",
    "    overlayPic = plotEventView3D(deconvWaveform)\n",
    "    print(\"Calling the show method\")\n",
    "    overlayPic.show()"
   ]
  },
  {
   "cell_type": "markdown",
   "metadata": {},
   "source": [
    "### 4. Deconvolution\n",
    "\n",
    "After noise removal in the spatial domain, we now reconstuct the original signal by deconvolving the effects of the response function from the observed signal. \n",
    "\n",
    "We first plot the full response functions in the frequency domain:"
   ]
  },
  {
   "cell_type": "code",
   "execution_count": null,
   "metadata": {},
   "outputs": [],
   "source": [
    "# Now plot the response functions\n",
    "responsePlot = go.Figure()\n",
    "\n",
    "responsePlot.add_traces([\n",
    "    go.Scatter(\n",
    "        line=dict(color=DEFAULT_PLOTLY_COLORS[0],width=1),\n",
    "        name=\"Response Induction 0\",\n",
    "        x=TPCresponses[0].Filter.frequencyBins,\n",
    "        y=np.absolute(TPCresponses[0].ResponseFFT)\n",
    "    ),\n",
    "    go.Scatter(\n",
    "        line=dict(color=DEFAULT_PLOTLY_COLORS[1],width=1),\n",
    "        name=\"Response Induction 1\",\n",
    "        x=TPCresponses[1].Filter.frequencyBins,\n",
    "        y=np.absolute(TPCresponses[1].ResponseFFT)\n",
    "    ),\n",
    "    go.Scatter(\n",
    "        line=dict(color=DEFAULT_PLOTLY_COLORS[2],width=1),\n",
    "        name=\"Response Collection\",\n",
    "        x=TPCresponses[2].Filter.frequencyBins,\n",
    "        y=np.absolute(TPCresponses[2].ResponseFFT)\n",
    "    )\n",
    "])\n",
    "\n",
    "responsePlot.update_layout(title='$R(t)$', xaxis=dict(range=(0, 600), title='$\\omega$'), font=dict(size=15), width=1000)\n",
    "responsePlot.show()"
   ]
  },
  {
   "cell_type": "markdown",
   "metadata": {},
   "source": [
    "Since we have access to the response functions, the problem is that of **non-blind deconvolution**; that is, deconvolution with known response function $R(\\omega)$. \n",
    "\n",
    "The simplest non-blind deconvolution method is **inverse-filtering**, which we examine for the collection plane signal. "
   ]
  },
  {
   "cell_type": "code",
   "execution_count": null,
   "metadata": {},
   "outputs": [],
   "source": [
    "# Set up for fitting\n",
    "from sigproc_tools.sigproc_functions.fakeParticle import genWhiteNoiseWaveform,genSpikeWaveform,createParticleTrajectory\n",
    "from scipy.optimize import curve_fit\n",
    "import scipy.signal as sig\n",
    "\n",
    "# Define model function to be used to fit to the data above: \n",
    "def gauss(x, *p):\n",
    "    A, mu, sigma = p\n",
    "    return A*np.exp(-(x-mu)**2/(2.*sigma**2))\n",
    "\n",
    "halfRange       = 16\n",
    "electronicsGain = 67.4\n",
    "print(\"spikeResponse shape:\",spikeResponse.shape,\", spikeInput shape:\",spikeInput.shape)\n",
    "\n",
    "rawWaveform   = spikeResponse[wireNum,:]\n",
    "spikeWaveform = spikeInput[wireNum,:]\n",
    "startTick     = np.argmax(spikeWaveform)\n",
    "\n",
    "if not np.isscalar(startTick):\n",
    "    startTick = np.rint(np.mean(startTick)).astype(int)\n",
    "    \n",
    "chargeInd     = np.where(spikeWaveform>0.9)\n",
    "totCharge     = np.sum(spikeWaveform[chargeInd]) * electronicsGain\n",
    "print(\"chargeInd:\",chargeInd)\n",
    "print(\"spike:\",spikeWaveform[chargeInd])\n",
    "print(\"Total charge:\",totCharge)"
   ]
  },
  {
   "cell_type": "markdown",
   "metadata": {},
   "source": [
    "The goal is to estimate the total charge of the reconstructed signal as close as possible to the true total charge (given above). \n",
    "\n",
    "Running deconvolution on the true waveform without noise gives the following:"
   ]
  },
  {
   "cell_type": "code",
   "execution_count": null,
   "metadata": {},
   "outputs": [],
   "source": [
    "# run  the deconvolution on this waveform\n",
    "rawWaveformFFT = np.fft.rfft(rawWaveform)\n",
    "outputWaveformFFT = np.multiply(rawWaveformFFT,TPCresponses[responseType].DeconvolutionFFT)\n",
    "outputWaveform = np.fft.irfft(outputWaveformFFT)\n",
    "outputWaveform = np.roll(outputWaveform,int(TPCresponses[responseType].T0Offset/TPCresponses[responseType].TPCTickWidth))"
   ]
  },
  {
   "cell_type": "code",
   "execution_count": null,
   "metadata": {},
   "outputs": [],
   "source": [
    "tickVals = np.arange(numTicks)\n",
    "# Now let's try fitting the resulting peak to check our charge resolution\n",
    "peakValue = outputWaveform[startTick]\n",
    "peakRange = np.where(outputWaveform > 0.5*peakValue)\n",
    "print(\"peakRange:\",peakRange,\", first/last:\",peakRange[0][0],\",\",peakRange[0][-1])\n",
    "peakSigma = (peakRange[0][-1]-peakRange[0][0])/2.2\n",
    "print(\"peakSigma:\",peakSigma)\n",
    "fitParams = np.array([outputWaveform[startTick],startTick,peakSigma]).astype(np.float64)\n",
    "fitRange  = (startTick-int(round(3.5*peakSigma)),startTick+int(round(3.5*peakSigma)))\n",
    "fitXVals  = tickVals[fitRange[0]:fitRange[1]]\n",
    "fitYVals  = outputWaveform[fitRange[0]:fitRange[1]]\n",
    "print(\"fitParams:\",fitParams)\n",
    "\n",
    "# here is where the fit is done\n",
    "coeff,varMatrix = curve_fit(\n",
    "    gauss,fitXVals.astype(np.float64),fitYVals.astype(np.float64),p0=fitParams)\n",
    "print(\"Fit coefficients - Pulse Height: \",coeff[0],\", mean: \",coeff[1],\", sigma: \",coeff[2])\n",
    "\n",
    "totalCharge = electronicsGain * coeff[0] * coeff[2] * math.sqrt(2.* math.pi)\n",
    "print(\"Charge input:\",totCharge,\", Charge out:\",totalCharge)\n",
    "\n",
    "fitCurve = gauss(fitXVals,*np.array(coeff))\n",
    "waveformPlot = go.Figure()\n",
    "waveformPlot.add_traces([\n",
    "    go.Scatter(\n",
    "        line=dict(color=DEFAULT_PLOTLY_COLORS[0],width=1),\n",
    "        name=\"spikeWaveform\",\n",
    "        x=tickVals,\n",
    "        y=spikeWaveform,\n",
    "#         y=rawWaveform\n",
    "    ),\n",
    "    go.Scatter(\n",
    "        line=dict(color=DEFAULT_PLOTLY_COLORS[1],width=1),\n",
    "        name=\"Raw Waveform\",\n",
    "        x=tickVals,\n",
    "        y=rawWaveform\n",
    "    ),\n",
    "    go.Scatter(\n",
    "        line=dict(color=DEFAULT_PLOTLY_COLORS[4],width=1),\n",
    "        name=\"Deconvolved Waveform\",\n",
    "        x=tickVals,\n",
    "        y=outputWaveform\n",
    "    ),\n",
    "    go.Scatter(\n",
    "        line=dict(color='red',dash='dash',width=1),\n",
    "        name=\"Fit\",\n",
    "        x=fitXVals,\n",
    "        y=fitCurve\n",
    "    )\n",
    "])\n",
    "\n",
    "waveformPlot.show()"
   ]
  },
  {
   "cell_type": "markdown",
   "metadata": {},
   "source": [
    "We now consider the same procedure with the noise removed waveform from the previous section. "
   ]
  },
  {
   "cell_type": "code",
   "execution_count": null,
   "metadata": {},
   "outputs": [],
   "source": [
    "# Do again with noise\n",
    "rawWaveWithNoise = deconvWaveform[wireNum,:]\n",
    "noise_var = deconvolver.noise_var"
   ]
  },
  {
   "cell_type": "code",
   "execution_count": null,
   "metadata": {},
   "outputs": [],
   "source": [
    "#dWaveWithNoise = sig.gauss_spline(medWaveWithNoiseIn,2)\n",
    "rawWaveWithNoiseFFT = np.fft.rfft(rawWaveWithNoise)\n",
    "responseFFT = TPCresponses[responseType].ResponseFFT\n",
    "# rawWaveOutput = richardson_lucy(rawWaveWithNoise.reshape(-1, 1), TPCresponses[responseType].Response.reshape(-1, 1), iterations=50, clip=True)\n",
    "wienerFFT = np.conj(responseFFT) / (np.abs(responseFFT)**2 + noise_var**2 / np.abs(rawWaveWithNoiseFFT)**2)\n",
    "rawWaveOutputFFT = np.multiply(rawWaveWithNoiseFFT,TPCresponses[responseType].DeconvolutionFFT)\n",
    "rawWaveOutputFFT = np.multiply(rawWaveWithNoiseFFT,wienerFFT)\n",
    "rawWaveOutput = np.fft.irfft(rawWaveOutputFFT)\n",
    "rawWaveOutput = np.roll(rawWaveOutput,int(TPCresponses[responseType].T0Offset/TPCresponses[responseType].TPCTickWidth))\n",
    "fitYVals  = rawWaveOutput[fitRange[0]:fitRange[1]]\n",
    "print(fitYVals)\n",
    "fitXVals  = tickVals[fitRange[0]:fitRange[1]]\n",
    "# here is where the fit is done\n",
    "coeff,varMatrix = curve_fit(\n",
    "    gauss,fitXVals.astype(np.float64),fitYVals.astype(np.float64),p0=coeff)\n",
    "print(\"Fit coefficients - Pulse Height: \",coeff[0],\", mean: \",coeff[1],\", sigma: \",coeff[2])\n",
    "totalCharge = electronicsGain * coeff[0] * coeff[2] * math.sqrt(2.* math.pi)\n",
    "print(\"Charge input:\",totCharge,\", Charge out:\",totalCharge)\n",
    "fitCurve = gauss(fitXVals,*np.array(coeff))"
   ]
  },
  {
   "cell_type": "code",
   "execution_count": null,
   "metadata": {},
   "outputs": [],
   "source": [
    "# Plot time again\n",
    "noiseWavePlot = go.Figure()\n",
    "tickVals = np.arange(numTicks)\n",
    "noiseWavePlot.add_traces([\n",
    "    go.Scatter(\n",
    "        line=dict(color=DEFAULT_PLOTLY_COLORS[0],width=1),\n",
    "        name=\"spikeWaveform\",\n",
    "        x=tickVals,\n",
    "        y=spikeWaveform,\n",
    "#         y=rawWaveform\n",
    "    ),\n",
    "    go.Scatter(\n",
    "        line=dict(color=DEFAULT_PLOTLY_COLORS[1],width=1),\n",
    "        name=\"After CNC + Adaptive Wiener\",\n",
    "        x=tickVals,\n",
    "        y=rawWaveWithNoise\n",
    "    ),\n",
    "#     go.Scatter(\n",
    "#         line=dict(color=DEFAULT_PLOTLY_COLORS[2],width=1),\n",
    "#         name=\"Med Filt Waveform\",\n",
    "#         x=tickVals,\n",
    "#         y=medWaveWithNoise\n",
    "#     ),\n",
    "    go.Scatter(\n",
    "        line=dict(color=DEFAULT_PLOTLY_COLORS[4],width=1),\n",
    "        name=\"Deconvolved Waveform\",\n",
    "        x=tickVals,\n",
    "        y=rawWaveOutput\n",
    "    ),\n",
    "    go.Scatter(\n",
    "        line=dict(color='red',dash='dash',width=1),\n",
    "        name=\"Fit\",\n",
    "        x=fitXVals,\n",
    "        y=fitCurve\n",
    "    )\n",
    "])\n",
    "noiseWavePlot.show()\n",
    "rawResponsePlot = go.Figure()\n",
    "rawResponsePlot.add_traces([\n",
    "    go.Scatter(\n",
    "        line=dict(color=DEFAULT_PLOTLY_COLORS[0],width=1),\n",
    "        name=\"Raw Response No Noise\",\n",
    "        x=TPCresponses[0].Filter.frequencyBins,\n",
    "        y=np.absolute(rawWaveformFFT)\n",
    "    ),\n",
    "    go.Scatter(\n",
    "        line=dict(color=DEFAULT_PLOTLY_COLORS[1],width=1),\n",
    "        name=\"Raw Response w/ Noise\",\n",
    "        x=TPCresponses[1].Filter.frequencyBins,\n",
    "        y=np.absolute(rawWaveWithNoiseFFT)\n",
    "    )\n",
    "])\n",
    "rawResponsePlot.update_layout(xaxis=dict(range=(0, None), title='$\\omega$'), font=dict(size=15))\n",
    "rawResponsePlot.show()"
   ]
  },
  {
   "cell_type": "code",
   "execution_count": null,
   "metadata": {},
   "outputs": [],
   "source": []
  },
  {
   "cell_type": "code",
   "execution_count": null,
   "metadata": {},
   "outputs": [],
   "source": []
  },
  {
   "cell_type": "code",
   "execution_count": null,
   "metadata": {},
   "outputs": [],
   "source": []
  },
  {
   "cell_type": "code",
   "execution_count": null,
   "metadata": {},
   "outputs": [],
   "source": []
  },
  {
   "cell_type": "code",
   "execution_count": null,
   "metadata": {},
   "outputs": [],
   "source": []
  }
 ],
 "metadata": {
  "kernelspec": {
   "display_name": "Python 3",
   "language": "python",
   "name": "python3"
  },
  "language_info": {
   "codemirror_mode": {
    "name": "ipython",
    "version": 3
   },
   "file_extension": ".py",
   "mimetype": "text/x-python",
   "name": "python",
   "nbconvert_exporter": "python",
   "pygments_lexer": "ipython3",
   "version": "3.7.5"
  }
 },
 "nbformat": 4,
 "nbformat_minor": 4
}
